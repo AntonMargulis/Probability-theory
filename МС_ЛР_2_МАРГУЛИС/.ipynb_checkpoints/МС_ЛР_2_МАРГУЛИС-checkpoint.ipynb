{
 "cells": [
  {
   "cell_type": "code",
   "execution_count": 75,
   "metadata": {},
   "outputs": [],
   "source": [
    "import matplotlib.pyplot as plt\n",
    "from numpy import arange\n",
    "from numpy.random import normal, exponential, uniform\n",
    "from scipy import stats\n",
    "import pandas as pd\n",
    "from collections import Counter\n",
    "from math import *"
   ]
  },
  {
   "cell_type": "code",
   "execution_count": 122,
   "metadata": {},
   "outputs": [
    {
     "name": "stdout",
     "output_type": "stream",
     "text": [
      "a = -1.5 \n",
      "sigma = 1.15 \n",
      "lam = 2.85 \n",
      "a_uni = -0.75 \n",
      "b = 2.25 \n",
      "size = 200 \n",
      "m_Sterdjes = 8\n"
     ]
    }
   ],
   "source": [
    "# вычисление значений\n",
    "V = 15\n",
    "a = (-1)**V*0.1*V\n",
    "sigma = 0.01*V+1\n",
    "lam = 3+(-1)**V*0.01*V\n",
    "a_uni = (-1)**V*0.05*V\n",
    "b = a_uni+3\n",
    "size = 200\n",
    "m_Sterdjes = int(1+log(size, 2)//1)\n",
    "print('a =', a, '\\nsigma =', sigma, '\\nlam =', lam, '\\na_uni =', a_uni,\n",
    "      '\\nb =', b,'\\nsize =', size, '\\nm_Sterdjes =', m_Sterdjes)"
   ]
  },
  {
   "cell_type": "code",
   "execution_count": 123,
   "metadata": {},
   "outputs": [],
   "source": [
    "# создание датафрейма\n",
    "def df_create(Xk, Nk, Wk):\n",
    "    df = pd.DataFrame(Xk, columns=['Xk'])\n",
    "    df['Nk'] = Nk\n",
    "    df['Wk'] = Wk\n",
    "    return df"
   ]
  },
  {
   "cell_type": "markdown",
   "metadata": {},
   "source": [
    "# теоретические величины"
   ]
  },
  {
   "cell_type": "code",
   "execution_count": 155,
   "metadata": {},
   "outputs": [],
   "source": [
    "def phi(x, a, sigma): \n",
    "    return (1 + erf((x - a) / sigma / sqrt(2))) / 2\n",
    "\n",
    "# вероятность попадания в i-ый интервал для нормального распределения\n",
    "def normal_teor_probability(data, a, sigma, m_Sterdjes, len_of_interval):\n",
    "    probabilityes = []\n",
    "    intervals = []\n",
    "    summ = 0\n",
    "    for i in range(m_Sterdjes+1):\n",
    "        intervals.append(data[0]+len_of_interval*i)\n",
    "    \n",
    "    print()\n",
    "    for i in range(len(intervals)-1):\n",
    "        probabilityes.append(round(phi(intervals[i+1], a, sigma**2)-phi(intervals[i], a, sigma**2), 5))\n",
    "        print(i+1, probabilityes[i]) \n",
    "        summ += probabilityes[i]\n",
    "    print('sum =', summ) \n",
    "    \n",
    "    return probabilityes\n",
    "    \n",
    "    \n",
    "#Function for the CDF of the exponential distribution\n",
    "def CDFExponential(lam,x): #lamb = lambda\n",
    "    if x<=0:\n",
    "        cdf=0\n",
    "    else:\n",
    "        cdf=1-exp(-lam*x)\n",
    "    return cdf\n",
    "    \n",
    "# вероятность попадания в i-ый интервал для показательного распределения\n",
    "def exp_teor_probability(data, lam, m_Sterdjes, len_of_interval):\n",
    "    probabilityes = []\n",
    "    intervals = []\n",
    "    summ = 0\n",
    "    for i in range(m_Sterdjes+1):\n",
    "        intervals.append(data[0]+len_of_interval*i)\n",
    "    \n",
    "    print()\n",
    "    for i in range(len(intervals)-1):\n",
    "        probabilityes.append(round(CDFExponential(lam,intervals[i+1])-CDFExponential(lam,intervals[i]), 5))\n",
    "        print(i+1, probabilityes[i])\n",
    "        summ += probabilityes[i]\n",
    "    print('sum =', summ)    \n",
    "    \n",
    "    return probabilityes\n",
    "        \n",
    "   \n",
    "        \n",
    "# вероятность попадания в i-ый интервал для равномерного распределения\n",
    "def uni_teor_probability(data, a, b, m_Sterdjes, len_of_interval):\n",
    "    probabilityes = []\n",
    "    intervals = []\n",
    "    summ = 0\n",
    "    for i in range(m_Sterdjes+1):\n",
    "        intervals.append(data[0]+len_of_interval*i)\n",
    "        \n",
    "    print()\n",
    "    for i in range(len(intervals)-1):\n",
    "        probabilityes.append(round(stats.uniform.cdf(intervals[i+1], a, b)-stats.uniform.cdf(intervals[i], a, b), 5))\n",
    "        print(i+1, probabilityes[i])\n",
    "        summ += probabilityes[i]\n",
    "    print('sum =', summ) \n",
    "    \n",
    "    return probabilityes\n",
    "    "
   ]
  },
  {
   "cell_type": "code",
   "execution_count": 15,
   "metadata": {},
   "outputs": [],
   "source": [
    "def print_normal_teor():\n",
    "    print('NORMAL teoreric')\n",
    "    print('expected value =', a)\n",
    "    print('dispersion =', (sigma**2)**2)\n",
    "    print('quadratic deviation =', sigma**2)\n",
    "    print('fashion =', a)\n",
    "    print('median =', a)\n",
    "    print('asymmetry =', 0)\n",
    "    print('kurtosis =', 0)\n",
    "    \n",
    "def print_exp_teor():\n",
    "    print('EXPONENTIAL teoreric')\n",
    "    print('expected value =', lam**(-1))\n",
    "    print('dispersion =', lam**(-2))\n",
    "    print('quadratic deviation =', lam**(-1))\n",
    "    print('fashion =', 0)\n",
    "    print('median =', log1p(1)/lam)\n",
    "    print('asymmetry =', 2)\n",
    "    print('kurtosis =', 6)\n",
    "    \n",
    "def print_uni_teor():\n",
    "    print('UNIFORM teoreric')\n",
    "    print('expected value =', (a_uni + b) / 2)\n",
    "    print('dispersion =', (b - a_uni)**2 / 12)\n",
    "    print('quadratic deviation =', (b - a_uni) / 2*sqrt(3))\n",
    "    print('fashion =', (a_uni + b) / 2)\n",
    "    print('median =', (a_uni + b) / 2)\n",
    "    print('asymmetry =', 0)\n",
    "    print('kurtosis =', -6/5)"
   ]
  },
  {
   "cell_type": "code",
   "execution_count": 16,
   "metadata": {},
   "outputs": [
    {
     "data": {
      "text/plain": [
       "<function __main__.print_uni_teor()>"
      ]
     },
     "execution_count": 16,
     "metadata": {},
     "output_type": "execute_result"
    }
   ],
   "source": [
    "print_normal_teor\n",
    "print_exp_teor\n",
    "print_uni_teor"
   ]
  },
  {
   "cell_type": "markdown",
   "metadata": {},
   "source": [
    "# методы"
   ]
  },
  {
   "cell_type": "markdown",
   "metadata": {},
   "source": [
    "### вычисление"
   ]
  },
  {
   "cell_type": "code",
   "execution_count": 17,
   "metadata": {},
   "outputs": [],
   "source": [
    "# распределение элементов по интервалам \n",
    "def make_elems_in_intervals(data, len_of_interval):\n",
    "    elem_in_intervals = [\n",
    "        [],\n",
    "        [],\n",
    "        [],\n",
    "        [],\n",
    "        [],\n",
    "        [],\n",
    "        [],\n",
    "        [],\n",
    "    ]\n",
    "    intervals = [\n",
    "        data[0], \n",
    "        data[0]+len_of_interval, \n",
    "        data[0]+len_of_interval*2,\n",
    "        data[0]+len_of_interval*3,\n",
    "        data[0]+len_of_interval*4,\n",
    "        data[0]+len_of_interval*5,\n",
    "        data[0]+len_of_interval*6,\n",
    "        data[0]+len_of_interval*7,\n",
    "        data[0]+len_of_interval*8\n",
    "    ]\n",
    "    round(intervals[0], 5)\n",
    "    for i in range(len(intervals)-1):\n",
    "        round(intervals[i+1], 5)\n",
    "        print(intervals[i], intervals[i+1])\n",
    "    \n",
    "    for i in range(len(data)-1):\n",
    "        if intervals[0] <= data[i] <= intervals[1]:\n",
    "            elem_in_intervals[0].append(data[i])\n",
    "        elif intervals[1] < data[i] <= intervals[2]:\n",
    "            elem_in_intervals[1].append(data[i])\n",
    "        elif intervals[2] < data[i] <= intervals[3]:\n",
    "            elem_in_intervals[2].append(data[i])\n",
    "        elif intervals[3] < data[i] <= intervals[4]:\n",
    "            elem_in_intervals[3].append(data[i])\n",
    "        elif intervals[4] < data[i] <= intervals[5]:\n",
    "            elem_in_intervals[4].append(data[i])\n",
    "        elif intervals[5] < data[i] <= intervals[6]:\n",
    "            elem_in_intervals[5].append(data[i])\n",
    "        elif intervals[6] < data[i] <= intervals[7]:\n",
    "            elem_in_intervals[6].append(data[i])\n",
    "        elif intervals[7] < data[i] <= intervals[8]:\n",
    "            elem_in_intervals[7].append(data[i])\n",
    "            \n",
    "    elem_in_intervals[7].append(data[-1])\n",
    "    return elem_in_intervals"
   ]
  },
  {
   "cell_type": "code",
   "execution_count": 18,
   "metadata": {},
   "outputs": [],
   "source": [
    "# растояние от первого до последнего элемента \n",
    "def len_of_all(sort_data):\n",
    "    len_of_all_value = round(sort_data[size-1] - sort_data[0], 5)\n",
    "    return len_of_all_value\n",
    "\n",
    "# длина интервала\n",
    "def len_of_interval_i(sort_data, m):\n",
    "    len_of_all_value = len_of_all(sort_data)\n",
    "    len_of_interval = round(len_of_all_value/m, 5)\n",
    "    return len_of_interval"
   ]
  },
  {
   "cell_type": "code",
   "execution_count": 19,
   "metadata": {},
   "outputs": [],
   "source": [
    "# число значений попавщих в i-ый интервал\n",
    "def count_elems(elems_in_intervals):\n",
    "    Nk = []\n",
    "#     summ = 0\n",
    "    for i in range(len(elems_in_intervals)):\n",
    "        Nk.append(len(elems_in_intervals[i]))\n",
    "#         summ = Nk[i] + summ\n",
    "#     Nk.append(summ)\n",
    "    return Nk\n",
    "\n",
    "# относительная частота попадания в i-ый интервал\n",
    "def relative_frequency(Nk, size):\n",
    "    Wk = []\n",
    "#     summ = 0 \n",
    "    for i in range(len(Nk)):\n",
    "        Wk.append(Nk[i]/size)\n",
    "#         summ = Wk[i] + summ\n",
    "#     Wk.append(summ)\n",
    "    return Wk\n",
    "\n",
    "# середина интервалов\n",
    "def intervals_mid(data, len_of_interval):\n",
    "    intervals = [\n",
    "        data[0], \n",
    "        data[0]+len_of_interval, \n",
    "        data[0]+len_of_interval*2,\n",
    "        data[0]+len_of_interval*3,\n",
    "        data[0]+len_of_interval*4,\n",
    "        data[0]+len_of_interval*5,\n",
    "        data[0]+len_of_interval*6,\n",
    "        data[0]+len_of_interval*7,\n",
    "        data[0]+len_of_interval*8\n",
    "    ]\n",
    "    Xk = []\n",
    "    for i in range(len(intervals)-1):\n",
    "        Xk.append( (intervals[i]+intervals[i+1])/2 )\n",
    "        \n",
    "    return Xk"
   ]
  },
  {
   "cell_type": "code",
   "execution_count": 20,
   "metadata": {},
   "outputs": [],
   "source": [
    "# выборочное среднее\n",
    "def sample_mean(df):\n",
    "    summ = 0\n",
    "    for i in range(len(df)):\n",
    "        summ = summ + df['Xk'][i]*df['Wk'][i]\n",
    "    return summ\n",
    "\n",
    "# выборочная дисперсия\n",
    "def sample_dispersion_with_Shepard(df, len_of_interval):\n",
    "    sample_mean_value = sample_mean(df)\n",
    "    summ = 0\n",
    "    for i in range(len(df)):\n",
    "        summ = summ + ( (df['Xk'][i]-sample_mean_value)**2 * df['Wk'][i] - (len_of_interval**2 / 12) )\n",
    "    return summ\n",
    "\n",
    "# выборочное среднее квадратическое отклонение\n",
    "def sample_quadratic_deviation(df, len_of_interval):\n",
    "    return (sqrt(sample_dispersion_with_Shepard(df, len_of_interval)))\n",
    "\n",
    "# нахождение номера модального интервала\n",
    "def search_fashion_interval(df, max_N):\n",
    "    for i in range(len(df)):\n",
    "        if df['Nk'][i] == max_N:\n",
    "            return i\n",
    "\n",
    "# выборочная мода\n",
    "def sample_fashion(df, first, len_of_interval):  \n",
    "    max_N = max(df['Nk'])\n",
    "    num = search_fashion_interval(df, max_N)\n",
    "    a = first + len_of_interval*num\n",
    "    if num==0:\n",
    "        M = a + len_of_interval*(df['Wk'][num])/(2*df['Wk'][num]-df['Wk'][num+1])\n",
    "    elif num==len(df)-1:\n",
    "        M = a + len_of_interval*(df['Wk'][num]-df['Wk'][num-1])/(2*df['Wk'][num]-df['Wk'][num-1])\n",
    "    else:\n",
    "        M = a + len_of_interval*(df['Wk'][num]-df['Wk'][num-1])/(2*df['Wk'][num]-df['Wk'][num-1]-df['Wk'][num+1])\n",
    "    return M\n",
    "\n",
    "# выборочная медиана\n",
    "def sample_median(df, first, len_of_interval):\n",
    "    max_N = max(df['Nk'])\n",
    "    num = search_fashion_interval(df, max_N)\n",
    "    summ = 0 \n",
    "    for i in range(num):\n",
    "        summ = summ + df['Wk'][i]\n",
    "    if summ == 0.5:\n",
    "        M = first + len_of_interval*(num+1)\n",
    "        return M\n",
    "    else: \n",
    "        summ = summ - df['Wk'][num]\n",
    "        a = first + len_of_interval*num\n",
    "        M = a + len_of_interval/df['Wk'][num] * (0.5 - summ)\n",
    "        return M\n",
    "    \n",
    "# выборочниый момент К-го порядка\n",
    "def sample_moment_k(df, k):\n",
    "    summ = 0 \n",
    "    for i in range(len(df)):\n",
    "        summ = summ + ( df['Xk'][i]**k * df['Wk'][i] )\n",
    "    return summ\n",
    "\n",
    "# выборочный центральный момент k-ого порядка\n",
    "def sample_centr_moment_k(df, k):\n",
    "    summ = 0\n",
    "    sm = sample_mean(df)\n",
    "    for i in range(len(df)):\n",
    "        summ = summ + ((df['Xk'][i]-sm)**k)*df['Wk'][i]\n",
    "    return summ\n",
    "\n",
    "# выборочный коэффициент асимметрии\n",
    "def sample_asymmetry_coef(df, len_of_interval):\n",
    "    return (sample_centr_moment_k(df, 3) / sample_dispersion_with_Shepard(df, len_of_interval)**3)\n",
    "\n",
    "# выборочный коэффициент эксцесса\n",
    "def sample_kurtosis_coef(df, len_of_interval):\n",
    "    return ((sample_centr_moment_k(df, 4) / sample_dispersion_with_Shepard(df, len_of_interval)**4) - 3)"
   ]
  },
  {
   "cell_type": "code",
   "execution_count": 131,
   "metadata": {},
   "outputs": [],
   "source": [
    "def print_all(df, first, len_of_interval): \n",
    "    print('выборочное среднее =', round(sample_mean(df), 5))\n",
    "    print('выборочная дисперсия =', round(sample_dispersion_with_Shepard(df, len_of_interval), 5))\n",
    "    print('выборочное среднее квадратическое отклонение =', round(sample_quadratic_deviation(df, len_of_interval), 5))\n",
    "    print('выборочная мода =', round(sample_fashion(df, first, len_of_interval), 5))\n",
    "    print('выборочная медиана =', round(sample_median(df, first, len_of_interval), 5))\n",
    "    print('выборочниый момент 2-го порядка =', round(sample_moment_k(df, 2), 5))\n",
    "    print('выборочный центральный момент 2-ого порядка =', round(sample_centr_moment_k(df, 2), 5))\n",
    "    print('выборочный коэффициент асимметрии =', round(sample_asymmetry_coef(df, len_of_interval),5))\n",
    "    print('выборочный коэффициент эксцесса =', round(sample_kurtosis_coef(df, len_of_interval),5))"
   ]
  },
  {
   "cell_type": "markdown",
   "metadata": {},
   "source": [
    "### построение"
   ]
  },
  {
   "cell_type": "code",
   "execution_count": 22,
   "metadata": {},
   "outputs": [],
   "source": [
    "# график эмпир. ф-ии распр.\n",
    "def plot_emperic(sort_data, size):  \n",
    "    arr_x = sort_data\n",
    "    arr_y = []\n",
    "        \n",
    "    plt.figure(figsize=(10, 8), dpi=200)\n",
    "    for i in range(len(sort_data)-1):\n",
    "        arr_y.append( (i+1)/size )\n",
    "        plt.plot([arr_x[i],arr_x[i+1]], [arr_y[i], arr_y[i]])\n",
    "    \n",
    "    plt.plot([arr_x[0]-0.3,arr_x[0]], [0,0], color='blue')\n",
    "    plt.plot([arr_x[-1],arr_x[-1]+0.3], [1,1], color='blue')\n",
    "    plt.yticks(arange(0, 1.1, step=0.1))\n",
    "    plt.grid(True)   \n",
    "    \n",
    "def plot_hist(df, len_of_interval):\n",
    "    width = len_of_interval\n",
    "    plt.figure(figsize=(10, 8), dpi=200)\n",
    "    plt.bar(df['Xk'], df['Wk']/width, width, color='orange', edgecolor='dodgerblue', linewidth=0.6)\n",
    "    plt.xticks(df_normal['Xk'])\n",
    "    plt.show()"
   ]
  },
  {
   "cell_type": "markdown",
   "metadata": {},
   "source": [
    "# нормальное распределение"
   ]
  },
  {
   "cell_type": "code",
   "execution_count": 23,
   "metadata": {},
   "outputs": [],
   "source": [
    "# data_normal = stats.norm.rvs(a, sigma**2, 200)\n",
    "# for i in range(size): \n",
    "#     data_normal[i] = round(data_normal[i], 5)\n",
    "# print(list(data_normal))\n",
    "\n",
    "data_normal = [-0.70173, -0.05719, -1.65308, -1.01296, -1.99263, -1.2209, -0.98839, -0.8808, -2.33442, -3.61558, \n",
    " 0.52413, -2.69514, -2.92026, -2.05086, -4.28943, -0.56916, -1.64454, 0.26896, -1.42977, -2.15677, \n",
    " -1.60152, -1.19808, -1.92039, -1.85156, -4.81043, -0.85691, -3.61121, -2.04912, -3.96904, -1.40656,\n",
    " -0.56747, -2.31204, -1.67626, -2.36936, -4.21348, -1.26742, -4.01428, -2.90302, 0.40474, -1.46881,\n",
    " -2.68777, 0.8623, -0.73874, -3.47128, 0.78598, -1.84781, -1.96633, -4.76334, -3.0808, -0.25353,\n",
    " -1.34837, -0.85369, -2.31223, -3.92839, -5.8342, -4.79146, -2.37577, -2.14428, 0.24358, 0.4006,\n",
    " -2.01923, -1.76944, -4.24736, -1.25184, -3.25124, -3.01075, -2.65712, -2.81276, -0.02107, -3.64766,\n",
    " -0.16122, -2.0712, 0.35845, 0.39934, -0.91342, -1.10884, -3.05746, -0.96038, -0.60832, -0.65228,\n",
    " -1.29053, -0.37557, -2.76593, -0.80463, 0.95699, 3.72364, 0.61849, -1.3926, -0.1388, -2.76233,\n",
    " -2.10733, -0.17511, -2.72465, 0.96748, 2.29233, -3.26791, -0.87422, 0.59608, -2.45822, -3.07546,\n",
    " 0.66913, -4.47839, -1.27483, -2.86937, -3.36879, -3.25012, -3.7023, -2.34538, 1.46169, -0.07601, \n",
    " -0.168, -3.14228, -3.89163, -4.44166, -1.77463, -4.72523, -3.39096, 1.53596, -2.44595, -3.06224,\n",
    " -4.249, -2.65346, -1.62075, 0.17642, -5.73048, -0.82383, -0.9719, -1.39183, -0.63895, -2.62225, \n",
    " -0.67351, -1.01372, -1.00875, -2.50627, -0.82341, -1.48967, 1.31873, -0.22601, -0.17914, -2.27375,\n",
    " -1.18683, -3.24379, -0.02634, -1.93927, 0.80787, -1.34957, -2.71346, -0.41952, -3.50022, -0.54566, \n",
    " 0.4447, -2.92676, 1.44405, -1.07292, -5.59311, 0.60916, 0.57346, -2.83553, -0.4262, -3.4484,\n",
    " -5.3389, 2.47931, 0.8146, -3.25974, 1.50226, -0.30881, -2.32515, 1.09816, -2.96827, 0.25471,\n",
    " -1.37835, -0.98979, 1.07481, -5.29052, -1.36842, -3.41074, -2.10083, 0.68326, -2.10111, -2.39642,\n",
    " 0.27172, -2.49083, -2.3957, -2.00104, -1.49567, -1.66092, 0.60002, -2.41492, -2.67075, -0.91565,\n",
    " 0.4624, 0.18403, -1.36015, 1.92313, 0.57428, -3.99065, -1.61141, -0.98953, -2.66193, -1.40212]\n",
    "\n"
   ]
  },
  {
   "cell_type": "code",
   "execution_count": 127,
   "metadata": {},
   "outputs": [
    {
     "name": "stdout",
     "output_type": "stream",
     "text": [
      "-5.8342 -5.73048 -5.59311 -5.3389 -5.29052 -4.81043 -4.79146 -4.76334 -4.72523 -4.47839\n",
      "-4.44166 -4.28943 -4.249 -4.24736 -4.21348 -4.01428 -3.99065 -3.96904 -3.92839 -3.89163\n",
      "-3.7023 -3.64766 -3.61558 -3.61121 -3.50022 -3.47128 -3.4484 -3.41074 -3.39096 -3.36879\n",
      "-3.26791 -3.25974 -3.25124 -3.25012 -3.24379 -3.14228 -3.0808 -3.07546 -3.06224 -3.05746\n",
      "-3.01075 -2.96827 -2.92676 -2.92026 -2.90302 -2.86937 -2.83553 -2.81276 -2.76593 -2.76233\n",
      "-2.72465 -2.71346 -2.69514 -2.68777 -2.67075 -2.66193 -2.65712 -2.65346 -2.62225 -2.50627\n",
      "-2.49083 -2.45822 -2.44595 -2.41492 -2.39642 -2.3957 -2.37577 -2.36936 -2.34538 -2.33442\n",
      "-2.32515 -2.31223 -2.31204 -2.27375 -2.15677 -2.14428 -2.10733 -2.10111 -2.10083 -2.0712\n",
      "-2.05086 -2.04912 -2.01923 -2.00104 -1.99263 -1.96633 -1.93927 -1.92039 -1.85156 -1.84781\n",
      "-1.77463 -1.76944 -1.67626 -1.66092 -1.65308 -1.64454 -1.62075 -1.61141 -1.60152 -1.49567\n",
      "-1.48967 -1.46881 -1.42977 -1.40656 -1.40212 -1.3926 -1.39183 -1.37835 -1.36842 -1.36015\n",
      "-1.34957 -1.34837 -1.29053 -1.27483 -1.26742 -1.25184 -1.2209 -1.19808 -1.18683 -1.10884\n",
      "-1.07292 -1.01372 -1.01296 -1.00875 -0.98979 -0.98953 -0.98839 -0.9719 -0.96038 -0.91565\n",
      "-0.91342 -0.8808 -0.87422 -0.85691 -0.85369 -0.82383 -0.82341 -0.80463 -0.73874 -0.70173\n",
      "-0.67351 -0.65228 -0.63895 -0.60832 -0.56916 -0.56747 -0.54566 -0.4262 -0.41952 -0.37557\n",
      "-0.30881 -0.25353 -0.22601 -0.17914 -0.17511 -0.168 -0.16122 -0.1388 -0.07601 -0.05719\n",
      "-0.02634 -0.02107 0.17642 0.18403 0.24358 0.25471 0.26896 0.27172 0.35845 0.39934\n",
      "0.4006 0.40474 0.4447 0.4624 0.52413 0.57346 0.57428 0.59608 0.60002 0.60916\n",
      "0.61849 0.66913 0.68326 0.78598 0.80787 0.8146 0.8623 0.95699 0.96748 1.07481\n",
      "1.09816 1.31873 1.44405 1.46169 1.50226 1.53596 1.92313 2.29233 2.47931 3.72364\n"
     ]
    }
   ],
   "source": [
    "sort_data_normal = sorted(data_normal)\n",
    "for i in range(0,len(sort_data_normal),10):\n",
    "    print(sort_data_normal[i], sort_data_normal[i+1], \n",
    "          sort_data_normal[i+2], sort_data_normal[i+3], \n",
    "          sort_data_normal[i+4], sort_data_normal[i+5], \n",
    "          sort_data_normal[i+6], sort_data_normal[i+7], \n",
    "          sort_data_normal[i+8], sort_data_normal[i+9])"
   ]
  },
  {
   "cell_type": "code",
   "execution_count": 25,
   "metadata": {},
   "outputs": [
    {
     "name": "stdout",
     "output_type": "stream",
     "text": [
      "d = 1.19473\n"
     ]
    }
   ],
   "source": [
    "len_of_interval_normal = len_of_interval_i(sort_data_normal, m_Sterdjes)\n",
    "print('d =', len_of_interval_normal)"
   ]
  },
  {
   "cell_type": "code",
   "execution_count": 26,
   "metadata": {},
   "outputs": [
    {
     "name": "stdout",
     "output_type": "stream",
     "text": [
      "-5.8342 -4.63947\n",
      "-4.63947 -3.44474\n",
      "-3.44474 -2.2500099999999996\n",
      "-2.2500099999999996 -1.0552799999999998\n",
      "-1.0552799999999998 0.13945000000000007\n",
      "0.13945000000000007 1.3341800000000008\n",
      "1.3341800000000008 2.5289100000000007\n",
      "2.5289100000000007 3.7236400000000005\n",
      "[-5.8342, -5.73048, -5.59311, -5.3389, -5.29052, -4.81043, -4.79146, -4.76334, -4.72523]\n",
      "[-4.47839, -4.44166, -4.28943, -4.249, -4.24736, -4.21348, -4.01428, -3.99065, -3.96904, -3.92839, -3.89163, -3.7023, -3.64766, -3.61558, -3.61121, -3.50022, -3.47128, -3.4484]\n",
      "[-3.41074, -3.39096, -3.36879, -3.26791, -3.25974, -3.25124, -3.25012, -3.24379, -3.14228, -3.0808, -3.07546, -3.06224, -3.05746, -3.01075, -2.96827, -2.92676, -2.92026, -2.90302, -2.86937, -2.83553, -2.81276, -2.76593, -2.76233, -2.72465, -2.71346, -2.69514, -2.68777, -2.67075, -2.66193, -2.65712, -2.65346, -2.62225, -2.50627, -2.49083, -2.45822, -2.44595, -2.41492, -2.39642, -2.3957, -2.37577, -2.36936, -2.34538, -2.33442, -2.32515, -2.31223, -2.31204, -2.27375]\n",
      "[-2.15677, -2.14428, -2.10733, -2.10111, -2.10083, -2.0712, -2.05086, -2.04912, -2.01923, -2.00104, -1.99263, -1.96633, -1.93927, -1.92039, -1.85156, -1.84781, -1.77463, -1.76944, -1.67626, -1.66092, -1.65308, -1.64454, -1.62075, -1.61141, -1.60152, -1.49567, -1.48967, -1.46881, -1.42977, -1.40656, -1.40212, -1.3926, -1.39183, -1.37835, -1.36842, -1.36015, -1.34957, -1.34837, -1.29053, -1.27483, -1.26742, -1.25184, -1.2209, -1.19808, -1.18683, -1.10884, -1.07292]\n",
      "[-1.01372, -1.01296, -1.00875, -0.98979, -0.98953, -0.98839, -0.9719, -0.96038, -0.91565, -0.91342, -0.8808, -0.87422, -0.85691, -0.85369, -0.82383, -0.82341, -0.80463, -0.73874, -0.70173, -0.67351, -0.65228, -0.63895, -0.60832, -0.56916, -0.56747, -0.54566, -0.4262, -0.41952, -0.37557, -0.30881, -0.25353, -0.22601, -0.17914, -0.17511, -0.168, -0.16122, -0.1388, -0.07601, -0.05719, -0.02634, -0.02107]\n",
      "[0.17642, 0.18403, 0.24358, 0.25471, 0.26896, 0.27172, 0.35845, 0.39934, 0.4006, 0.40474, 0.4447, 0.4624, 0.52413, 0.57346, 0.57428, 0.59608, 0.60002, 0.60916, 0.61849, 0.66913, 0.68326, 0.78598, 0.80787, 0.8146, 0.8623, 0.95699, 0.96748, 1.07481, 1.09816, 1.31873]\n",
      "[1.44405, 1.46169, 1.50226, 1.53596, 1.92313, 2.29233, 2.47931]\n",
      "[3.72364]\n"
     ]
    }
   ],
   "source": [
    "elems_normal = make_elems_in_intervals(sort_data_normal, len_of_interval_normal)\n",
    "for i in range(len(elems_normal)):\n",
    "    print(elems_normal[i])"
   ]
  },
  {
   "cell_type": "code",
   "execution_count": 27,
   "metadata": {},
   "outputs": [
    {
     "data": {
      "text/plain": [
       "[9, 18, 47, 47, 41, 30, 7, 1]"
      ]
     },
     "execution_count": 27,
     "metadata": {},
     "output_type": "execute_result"
    }
   ],
   "source": [
    "Nk_normal = count_elems(elems_normal)\n",
    "Nk_normal"
   ]
  },
  {
   "cell_type": "code",
   "execution_count": 28,
   "metadata": {},
   "outputs": [
    {
     "data": {
      "text/plain": [
       "[0.045, 0.09, 0.235, 0.235, 0.205, 0.15, 0.035, 0.005]"
      ]
     },
     "execution_count": 28,
     "metadata": {},
     "output_type": "execute_result"
    }
   ],
   "source": [
    "Wk_normal = relative_frequency(Nk_normal, size)\n",
    "Wk_normal"
   ]
  },
  {
   "cell_type": "code",
   "execution_count": 29,
   "metadata": {},
   "outputs": [
    {
     "data": {
      "text/plain": [
       "[-5.236835,\n",
       " -4.042105,\n",
       " -2.8473749999999995,\n",
       " -1.6526449999999997,\n",
       " -0.45791499999999985,\n",
       " 0.7368150000000004,\n",
       " 1.9315450000000007,\n",
       " 3.1262750000000006]"
      ]
     },
     "execution_count": 29,
     "metadata": {},
     "output_type": "execute_result"
    }
   ],
   "source": [
    "Xk_normal = intervals_mid(sort_data_normal, len_of_interval_normal)\n",
    "Xk_normal"
   ]
  },
  {
   "cell_type": "code",
   "execution_count": 30,
   "metadata": {},
   "outputs": [
    {
     "data": {
      "text/html": [
       "<div>\n",
       "<style scoped>\n",
       "    .dataframe tbody tr th:only-of-type {\n",
       "        vertical-align: middle;\n",
       "    }\n",
       "\n",
       "    .dataframe tbody tr th {\n",
       "        vertical-align: top;\n",
       "    }\n",
       "\n",
       "    .dataframe thead th {\n",
       "        text-align: right;\n",
       "    }\n",
       "</style>\n",
       "<table border=\"1\" class=\"dataframe\">\n",
       "  <thead>\n",
       "    <tr style=\"text-align: right;\">\n",
       "      <th></th>\n",
       "      <th>Xk</th>\n",
       "      <th>Nk</th>\n",
       "      <th>Wk</th>\n",
       "    </tr>\n",
       "  </thead>\n",
       "  <tbody>\n",
       "    <tr>\n",
       "      <th>0</th>\n",
       "      <td>-5.236835</td>\n",
       "      <td>9</td>\n",
       "      <td>0.045</td>\n",
       "    </tr>\n",
       "    <tr>\n",
       "      <th>1</th>\n",
       "      <td>-4.042105</td>\n",
       "      <td>18</td>\n",
       "      <td>0.090</td>\n",
       "    </tr>\n",
       "    <tr>\n",
       "      <th>2</th>\n",
       "      <td>-2.847375</td>\n",
       "      <td>47</td>\n",
       "      <td>0.235</td>\n",
       "    </tr>\n",
       "    <tr>\n",
       "      <th>3</th>\n",
       "      <td>-1.652645</td>\n",
       "      <td>47</td>\n",
       "      <td>0.235</td>\n",
       "    </tr>\n",
       "    <tr>\n",
       "      <th>4</th>\n",
       "      <td>-0.457915</td>\n",
       "      <td>41</td>\n",
       "      <td>0.205</td>\n",
       "    </tr>\n",
       "    <tr>\n",
       "      <th>5</th>\n",
       "      <td>0.736815</td>\n",
       "      <td>30</td>\n",
       "      <td>0.150</td>\n",
       "    </tr>\n",
       "    <tr>\n",
       "      <th>6</th>\n",
       "      <td>1.931545</td>\n",
       "      <td>7</td>\n",
       "      <td>0.035</td>\n",
       "    </tr>\n",
       "    <tr>\n",
       "      <th>7</th>\n",
       "      <td>3.126275</td>\n",
       "      <td>1</td>\n",
       "      <td>0.005</td>\n",
       "    </tr>\n",
       "  </tbody>\n",
       "</table>\n",
       "</div>"
      ],
      "text/plain": [
       "         Xk  Nk     Wk\n",
       "0 -5.236835   9  0.045\n",
       "1 -4.042105  18  0.090\n",
       "2 -2.847375  47  0.235\n",
       "3 -1.652645  47  0.235\n",
       "4 -0.457915  41  0.205\n",
       "5  0.736815  30  0.150\n",
       "6  1.931545   7  0.035\n",
       "7  3.126275   1  0.005"
      ]
     },
     "execution_count": 30,
     "metadata": {},
     "output_type": "execute_result"
    }
   ],
   "source": [
    "df_normal = df_create(Xk_normal, Nk_normal, Wk_normal)\n",
    "df_normal"
   ]
  },
  {
   "cell_type": "code",
   "execution_count": 31,
   "metadata": {},
   "outputs": [
    {
     "data": {
      "text/plain": [
       "1.0"
      ]
     },
     "execution_count": 31,
     "metadata": {},
     "output_type": "execute_result"
    }
   ],
   "source": [
    "summ = 0\n",
    "for i in range(len(df_normal)):\n",
    "    summ = summ + df_normal['Wk'][i]\n",
    "summ"
   ]
  },
  {
   "cell_type": "code",
   "execution_count": 32,
   "metadata": {},
   "outputs": [
    {
     "data": {
      "image/png": "[encoded data removed]",
      "text/plain": [
       "<Figure size 2000x1600 with 1 Axes>"
      ]
     },
     "metadata": {},
     "output_type": "display_data"
    }
   ],
   "source": [
    "plot_emperic(sort_data_normal, size)"
   ]
  },
  {
   "cell_type": "code",
   "execution_count": 33,
   "metadata": {},
   "outputs": [
    {
     "data": {
      "image/png": "[encoded data removed]",
      "text/plain": [
       "<Figure size 2000x1600 with 1 Axes>"
      ]
     },
     "metadata": {},
     "output_type": "display_data"
    }
   ],
   "source": [
    "plot_hist(df_normal, len_of_interval_normal)"
   ]
  },
  {
   "cell_type": "code",
   "execution_count": 149,
   "metadata": {},
   "outputs": [
    {
     "name": "stdout",
     "output_type": "stream",
     "text": [
      "выборочное среднее = -1.55707\n",
      "выборочная дисперсия = 2.17951\n",
      "выборочное среднее квадратическое отклонение = 1.47632\n",
      "выборочная мода = -2.25001\n",
      "выборочная медиана = -0.39437\n",
      "выборочниый момент 2-го порядка = 5.55556\n",
      "выборочный центральный момент 2-ого порядка = 3.1311\n",
      "выборочный коэффициент асимметрии = -0.00444\n",
      "выборочный коэффициент эксцесса = -1.91974\n",
      "\n",
      "NORMAL teoreric\n",
      "expected value = -1.5\n",
      "dispersion = 1.7490062499999994\n",
      "quadratic deviation = 1.3224999999999998\n",
      "fashion = -1.5\n",
      "median = -1.5\n",
      "asymmetry = 0\n",
      "kurtosis = 0\n"
     ]
    }
   ],
   "source": [
    "print_all(df_normal, sort_data_normal[0], len_of_interval_normal)\n",
    "print()\n",
    "print_normal_teor()"
   ]
  },
  {
   "cell_type": "code",
   "execution_count": 150,
   "metadata": {},
   "outputs": [
    {
     "name": "stdout",
     "output_type": "stream",
     "text": [
      "\n",
      "1 0.00828\n",
      "2 0.06191\n",
      "3 0.21461\n",
      "4 0.34635\n",
      "5 0.26078\n",
      "6 0.0915\n",
      "7 0.0149\n",
      "8 0.00112\n",
      "sum = 0.9994500000000001\n",
      "\n",
      "0.03672\n",
      "0.028089999999999997\n",
      "0.02038999999999999\n",
      "0.11135\n",
      "0.055780000000000024\n",
      "0.058499999999999996\n",
      "0.020100000000000003\n",
      "0.00388\n"
     ]
    }
   ],
   "source": [
    "normal_teor_values = normal_teor_probability(sort_data_normal, a, sigma, m_Sterdjes, len_of_interval_normal)\n",
    "print()\n",
    "for i in range(len(normal_teor_values)):\n",
    "    print(abs(normal_teor_values[i]-Wk_normal[i]))"
   ]
  },
  {
   "cell_type": "markdown",
   "metadata": {},
   "source": [
    "# показательное распределение "
   ]
  },
  {
   "cell_type": "code",
   "execution_count": 109,
   "metadata": {},
   "outputs": [],
   "source": [
    "# data_exp = exponential(1/lam, size)\n",
    "# for i in range(size): \n",
    "#     data_exp[i] = round(data_exp[i], 5)\n",
    "# print(list(data_exp))\n",
    "\n",
    "data_exp = [0.06478, 0.0805, 0.47277, 0.2856, 0.21391, 0.29702, 0.41938, 0.38807, 0.02025, 0.00744,\n",
    " 0.37624, 0.16009, 0.51127, 0.03776, 0.09479, 1.94518, 0.24865, 0.0899, 0.00688, 0.28609, \n",
    " 0.30432, 0.39371, 0.16539, 0.40737, 0.40654, 0.10726, 0.20742, 0.4097, 0.38087, 0.49031, \n",
    " 0.11724, 0.90698, 1.16606, 0.71847, 0.03902, 0.3631, 0.3121, 0.16673, 0.52622, 0.49555, \n",
    " 0.49164, 0.714, 0.3829, 0.18736, 0.059, 1.14758, 0.30593, 0.01512, 0.63264, 0.1006, \n",
    " 1.07828, 0.85593, 0.03462, 0.07844, 0.65795, 0.7771, 0.1938, 0.29429, 0.00559, 0.10353,\n",
    " 0.05745, 0.01407, 0.74513, 0.0275, 0.64167, 0.69627, 0.20344, 0.18536, 0.01941, 0.14528,\n",
    " 0.31, 0.09946, 0.13164, 0.03624, 0.6076, 0.00263, 0.27706, 0.18708, 0.57342, 0.9322, \n",
    " 0.34903, 0.19833, 0.23167, 0.05974, 0.32255, 0.60119, 0.18743, 0.33066, 0.68373, 0.24904,\n",
    " 0.15978, 0.02259, 0.34784, 0.02115, 0.14699, 0.51034, 0.5407, 0.0784, 0.24316, 0.21541,\n",
    " 0.11264, 0.1715, 0.18719, 0.23529, 0.45881, 0.07007, 0.25074, 0.56781, 0.30803, 0.95646,\n",
    " 0.21363, 0.12606, 0.1258, 0.13642, 0.66989, 0.61823, 0.60302, 0.17047, 0.67091, 0.15276, \n",
    " 0.13246, 0.01983, 0.9179, 0.19317, 0.248, 0.05001, 0.10887, 0.00437, 0.05545, 0.21381,\n",
    " 0.0263, 0.53392, 0.12011, 0.53216, 0.31692, 0.2246, 1.34521, 0.14456, 0.19797, 0.22201,\n",
    " 0.3885, 0.42889, 0.3831, 0.8627, 0.35082, 0.44121, 0.4917, 1.07766, 1.61165, 1.36892, \n",
    " 0.14539, 0.07405, 0.37556, 0.48274, 0.38384, 0.31865, 0.00294, 0.16553, 0.2942, 0.48693, \n",
    " 1.03319, 0.24618, 0.08273, 0.15577, 0.97195, 0.15193, 0.0976, 0.05463, 0.10186, 0.08055, \n",
    " 1.04496, 1.04292, 0.15796, 0.33002, 0.78859, 0.07389, 0.30146, 0.62293, 0.068, 0.34017,\n",
    " 0.04832, 0.31765, 0.21355, 0.06148, 0.16026, 0.23271, 0.73297, 0.23003, 0.09353, 0.25247,\n",
    " 0.17974, 0.04044, 0.08438, 0.11937, 0.09273, 0.32843, 0.65551, 0.22847, 0.19335, 0.07031]\n"
   ]
  },
  {
   "cell_type": "code",
   "execution_count": 134,
   "metadata": {},
   "outputs": [
    {
     "name": "stdout",
     "output_type": "stream",
     "text": [
      "0.00263 0.00294 0.00437 0.00559 0.00688 0.00744 0.01407 0.01512 0.01941 0.01983\n",
      "0.02025 0.02115 0.02259 0.0263 0.0275 0.03462 0.03624 0.03776 0.03902 0.04044\n",
      "0.04832 0.05001 0.05463 0.05545 0.05745 0.059 0.05974 0.06148 0.06478 0.068\n",
      "0.07007 0.07031 0.07389 0.07405 0.0784 0.07844 0.0805 0.08055 0.08273 0.08438\n",
      "0.0899 0.09273 0.09353 0.09479 0.0976 0.09946 0.1006 0.10186 0.10353 0.10726\n",
      "0.10887 0.11264 0.11724 0.11937 0.12011 0.1258 0.12606 0.13164 0.13246 0.13642\n",
      "0.14456 0.14528 0.14539 0.14699 0.15193 0.15276 0.15577 0.15796 0.15978 0.16009\n",
      "0.16026 0.16539 0.16553 0.16673 0.17047 0.1715 0.17974 0.18536 0.18708 0.18719\n",
      "0.18736 0.18743 0.19317 0.19335 0.1938 0.19797 0.19833 0.20344 0.20742 0.21355\n",
      "0.21363 0.21381 0.21391 0.21541 0.22201 0.2246 0.22847 0.23003 0.23167 0.23271\n",
      "0.23529 0.24316 0.24618 0.248 0.24865 0.24904 0.25074 0.25247 0.27706 0.2856\n",
      "0.28609 0.2942 0.29429 0.29702 0.30146 0.30432 0.30593 0.30803 0.31 0.3121\n",
      "0.31692 0.31765 0.31865 0.32255 0.32843 0.33002 0.33066 0.34017 0.34784 0.34903\n",
      "0.35082 0.3631 0.37556 0.37624 0.38087 0.3829 0.3831 0.38384 0.38807 0.3885\n",
      "0.39371 0.40654 0.40737 0.4097 0.41938 0.42889 0.44121 0.45881 0.47277 0.48274\n",
      "0.48693 0.49031 0.49164 0.4917 0.49555 0.51034 0.51127 0.52622 0.53216 0.53392\n",
      "0.5407 0.56781 0.57342 0.60119 0.60302 0.6076 0.61823 0.62293 0.63264 0.64167\n",
      "0.65551 0.65795 0.66989 0.67091 0.68373 0.69627 0.714 0.71847 0.73297 0.74513\n",
      "0.7771 0.78859 0.85593 0.8627 0.90698 0.9179 0.9322 0.95646 0.97195 1.03319\n",
      "1.04292 1.04496 1.07766 1.07828 1.14758 1.16606 1.34521 1.36892 1.61165 1.94518\n"
     ]
    }
   ],
   "source": [
    "sort_data_exp = sorted(data_exp)\n",
    "for i in range(0,len(sort_data_exp),10):\n",
    "    print(sort_data_exp[i], sort_data_exp[i+1], \n",
    "          sort_data_exp[i+2], sort_data_exp[i+3], \n",
    "          sort_data_exp[i+4], sort_data_exp[i+5], \n",
    "          sort_data_exp[i+6], sort_data_exp[i+7], \n",
    "          sort_data_exp[i+8], sort_data_exp[i+9])"
   ]
  },
  {
   "cell_type": "code",
   "execution_count": 111,
   "metadata": {},
   "outputs": [
    {
     "name": "stdout",
     "output_type": "stream",
     "text": [
      "d = 0.24282\n"
     ]
    }
   ],
   "source": [
    "len_of_interval_exp = len_of_interval_i(sort_data_exp, m_Sterdjes)\n",
    "print('d =', len_of_interval_exp)"
   ]
  },
  {
   "cell_type": "code",
   "execution_count": 112,
   "metadata": {},
   "outputs": [
    {
     "name": "stdout",
     "output_type": "stream",
     "text": [
      "0.00263 0.24545\n",
      "0.24545 0.48827000000000004\n",
      "0.48827000000000004 0.73109\n",
      "0.73109 0.97391\n",
      "0.97391 1.2167299999999999\n",
      "1.2167299999999999 1.45955\n",
      "1.45955 1.70237\n",
      "1.70237 1.94519\n",
      "[0.00263, 0.00294, 0.00437, 0.00559, 0.00688, 0.00744, 0.01407, 0.01512, 0.01941, 0.01983, 0.02025, 0.02115, 0.02259, 0.0263, 0.0275, 0.03462, 0.03624, 0.03776, 0.03902, 0.04044, 0.04832, 0.05001, 0.05463, 0.05545, 0.05745, 0.059, 0.05974, 0.06148, 0.06478, 0.068, 0.07007, 0.07031, 0.07389, 0.07405, 0.0784, 0.07844, 0.0805, 0.08055, 0.08273, 0.08438, 0.0899, 0.09273, 0.09353, 0.09479, 0.0976, 0.09946, 0.1006, 0.10186, 0.10353, 0.10726, 0.10887, 0.11264, 0.11724, 0.11937, 0.12011, 0.1258, 0.12606, 0.13164, 0.13246, 0.13642, 0.14456, 0.14528, 0.14539, 0.14699, 0.15193, 0.15276, 0.15577, 0.15796, 0.15978, 0.16009, 0.16026, 0.16539, 0.16553, 0.16673, 0.17047, 0.1715, 0.17974, 0.18536, 0.18708, 0.18719, 0.18736, 0.18743, 0.19317, 0.19335, 0.1938, 0.19797, 0.19833, 0.20344, 0.20742, 0.21355, 0.21363, 0.21381, 0.21391, 0.21541, 0.22201, 0.2246, 0.22847, 0.23003, 0.23167, 0.23271, 0.23529, 0.24316]\n",
      "[0.24618, 0.248, 0.24865, 0.24904, 0.25074, 0.25247, 0.27706, 0.2856, 0.28609, 0.2942, 0.29429, 0.29702, 0.30146, 0.30432, 0.30593, 0.30803, 0.31, 0.3121, 0.31692, 0.31765, 0.31865, 0.32255, 0.32843, 0.33002, 0.33066, 0.34017, 0.34784, 0.34903, 0.35082, 0.3631, 0.37556, 0.37624, 0.38087, 0.3829, 0.3831, 0.38384, 0.38807, 0.3885, 0.39371, 0.40654, 0.40737, 0.4097, 0.41938, 0.42889, 0.44121, 0.45881, 0.47277, 0.48274, 0.48693]\n",
      "[0.49031, 0.49164, 0.4917, 0.49555, 0.51034, 0.51127, 0.52622, 0.53216, 0.53392, 0.5407, 0.56781, 0.57342, 0.60119, 0.60302, 0.6076, 0.61823, 0.62293, 0.63264, 0.64167, 0.65551, 0.65795, 0.66989, 0.67091, 0.68373, 0.69627, 0.714, 0.71847]\n",
      "[0.73297, 0.74513, 0.7771, 0.78859, 0.85593, 0.8627, 0.90698, 0.9179, 0.9322, 0.95646, 0.97195]\n",
      "[1.03319, 1.04292, 1.04496, 1.07766, 1.07828, 1.14758, 1.16606]\n",
      "[1.34521, 1.36892]\n",
      "[1.61165]\n",
      "[1.94518]\n"
     ]
    }
   ],
   "source": [
    "elems_exp = make_elems_in_intervals(sort_data_exp, len_of_interval_exp)\n",
    "for i in range(len(elems_exp)):\n",
    "    print(elems_exp[i])"
   ]
  },
  {
   "cell_type": "code",
   "execution_count": 113,
   "metadata": {},
   "outputs": [
    {
     "data": {
      "text/plain": [
       "[102, 49, 27, 11, 7, 2, 1, 1]"
      ]
     },
     "execution_count": 113,
     "metadata": {},
     "output_type": "execute_result"
    }
   ],
   "source": [
    "Nk_exp = count_elems(elems_exp)\n",
    "Nk_exp"
   ]
  },
  {
   "cell_type": "code",
   "execution_count": 114,
   "metadata": {},
   "outputs": [
    {
     "data": {
      "text/plain": [
       "[0.51, 0.245, 0.135, 0.055, 0.035, 0.01, 0.005, 0.005]"
      ]
     },
     "execution_count": 114,
     "metadata": {},
     "output_type": "execute_result"
    }
   ],
   "source": [
    "Wk_exp = relative_frequency(Nk_exp, size)\n",
    "Wk_exp"
   ]
  },
  {
   "cell_type": "code",
   "execution_count": 115,
   "metadata": {},
   "outputs": [
    {
     "data": {
      "text/plain": [
       "[0.12404,\n",
       " 0.36686,\n",
       " 0.60968,\n",
       " 0.8525,\n",
       " 1.09532,\n",
       " 1.3381399999999999,\n",
       " 1.58096,\n",
       " 1.82378]"
      ]
     },
     "execution_count": 115,
     "metadata": {},
     "output_type": "execute_result"
    }
   ],
   "source": [
    "Xk_exp = intervals_mid(sort_data_exp, len_of_interval_exp)\n",
    "Xk_exp"
   ]
  },
  {
   "cell_type": "code",
   "execution_count": 116,
   "metadata": {},
   "outputs": [
    {
     "data": {
      "text/html": [
       "<div>\n",
       "<style scoped>\n",
       "    .dataframe tbody tr th:only-of-type {\n",
       "        vertical-align: middle;\n",
       "    }\n",
       "\n",
       "    .dataframe tbody tr th {\n",
       "        vertical-align: top;\n",
       "    }\n",
       "\n",
       "    .dataframe thead th {\n",
       "        text-align: right;\n",
       "    }\n",
       "</style>\n",
       "<table border=\"1\" class=\"dataframe\">\n",
       "  <thead>\n",
       "    <tr style=\"text-align: right;\">\n",
       "      <th></th>\n",
       "      <th>Xk</th>\n",
       "      <th>Nk</th>\n",
       "      <th>Wk</th>\n",
       "    </tr>\n",
       "  </thead>\n",
       "  <tbody>\n",
       "    <tr>\n",
       "      <th>0</th>\n",
       "      <td>0.12404</td>\n",
       "      <td>102</td>\n",
       "      <td>0.510</td>\n",
       "    </tr>\n",
       "    <tr>\n",
       "      <th>1</th>\n",
       "      <td>0.36686</td>\n",
       "      <td>49</td>\n",
       "      <td>0.245</td>\n",
       "    </tr>\n",
       "    <tr>\n",
       "      <th>2</th>\n",
       "      <td>0.60968</td>\n",
       "      <td>27</td>\n",
       "      <td>0.135</td>\n",
       "    </tr>\n",
       "    <tr>\n",
       "      <th>3</th>\n",
       "      <td>0.85250</td>\n",
       "      <td>11</td>\n",
       "      <td>0.055</td>\n",
       "    </tr>\n",
       "    <tr>\n",
       "      <th>4</th>\n",
       "      <td>1.09532</td>\n",
       "      <td>7</td>\n",
       "      <td>0.035</td>\n",
       "    </tr>\n",
       "    <tr>\n",
       "      <th>5</th>\n",
       "      <td>1.33814</td>\n",
       "      <td>2</td>\n",
       "      <td>0.010</td>\n",
       "    </tr>\n",
       "    <tr>\n",
       "      <th>6</th>\n",
       "      <td>1.58096</td>\n",
       "      <td>1</td>\n",
       "      <td>0.005</td>\n",
       "    </tr>\n",
       "    <tr>\n",
       "      <th>7</th>\n",
       "      <td>1.82378</td>\n",
       "      <td>1</td>\n",
       "      <td>0.005</td>\n",
       "    </tr>\n",
       "  </tbody>\n",
       "</table>\n",
       "</div>"
      ],
      "text/plain": [
       "        Xk   Nk     Wk\n",
       "0  0.12404  102  0.510\n",
       "1  0.36686   49  0.245\n",
       "2  0.60968   27  0.135\n",
       "3  0.85250   11  0.055\n",
       "4  1.09532    7  0.035\n",
       "5  1.33814    2  0.010\n",
       "6  1.58096    1  0.005\n",
       "7  1.82378    1  0.005"
      ]
     },
     "execution_count": 116,
     "metadata": {},
     "output_type": "execute_result"
    }
   ],
   "source": [
    "df_exp = df_create(Xk_exp, Nk_exp, Wk_exp)\n",
    "df_exp"
   ]
  },
  {
   "cell_type": "code",
   "execution_count": 117,
   "metadata": {},
   "outputs": [
    {
     "data": {
      "text/plain": [
       "1.0"
      ]
     },
     "execution_count": 117,
     "metadata": {},
     "output_type": "execute_result"
    }
   ],
   "source": [
    "summ = 0\n",
    "for i in range(len(df_exp)):\n",
    "    summ = summ + df_exp['Wk'][i]\n",
    "summ"
   ]
  },
  {
   "cell_type": "code",
   "execution_count": 118,
   "metadata": {},
   "outputs": [
    {
     "data": {
      "image/png": "[encoded data removed]",
      "text/plain": [
       "<Figure size 2000x1600 with 1 Axes>"
      ]
     },
     "metadata": {},
     "output_type": "display_data"
    }
   ],
   "source": [
    "plot_emperic(sort_data_exp, size)"
   ]
  },
  {
   "cell_type": "code",
   "execution_count": 119,
   "metadata": {},
   "outputs": [
    {
     "data": {
      "image/png": "[encoded data removed]",
      "text/plain": [
       "<Figure size 2000x1600 with 1 Axes>"
      ]
     },
     "metadata": {},
     "output_type": "display_data"
    }
   ],
   "source": [
    "plot_hist(df_exp, len_of_interval_exp)"
   ]
  },
  {
   "cell_type": "code",
   "execution_count": 133,
   "metadata": {},
   "outputs": [
    {
     "name": "stdout",
     "output_type": "stream",
     "text": [
      "выборочное среднее = 0.35108\n",
      "выборочная дисперсия = 0.05743\n",
      "выборочное среднее квадратическое отклонение = 0.23966\n",
      "выборочная мода = 0.16242\n",
      "выборочная медиана = 0.48351\n",
      "выборочниый момент 2-го порядка = 0.22\n",
      "выборочный центральный момент 2-ого порядка = 0.09674\n",
      "выборочный коэффициент асимметрии = 277.7211\n",
      "выборочный коэффициент эксцесса = 5568.25977\n",
      "\n",
      "EXPONENTIAL teoreric\n",
      "expected value = 0.3508771929824561\n",
      "dispersion = 0.12311480455524776\n",
      "quadratic deviation = 0.3508771929824561\n",
      "fashion = 0\n",
      "median = 0.24320953703857728\n",
      "asymmetry = 2\n",
      "kurtosis = 6\n"
     ]
    }
   ],
   "source": [
    "print_all(df_exp, sort_data_exp[0], len_of_interval_exp)\n",
    "print()\n",
    "print_exp_teor()"
   ]
  },
  {
   "cell_type": "code",
   "execution_count": 157,
   "metadata": {},
   "outputs": [
    {
     "name": "stdout",
     "output_type": "stream",
     "text": [
      "\n",
      "1 0.49572\n",
      "2 0.24813\n",
      "3 0.1242\n",
      "4 0.06217\n",
      "5 0.03112\n",
      "6 0.01558\n",
      "7 0.0078\n",
      "8 0.0039\n",
      "sum = 0.9886200000000002\n",
      "\n",
      "0.01428\n",
      "0.00313\n",
      "0.0108\n",
      "0.00717\n",
      "0.00388\n",
      "0.00558\n",
      "0.0028\n",
      "0.0011\n"
     ]
    }
   ],
   "source": [
    "exp_teor_values = exp_teor_probability(sort_data_exp, lam, m_Sterdjes, len_of_interval_exp)\n",
    "print()\n",
    "for i in range(len(exp_teor_values)):\n",
    "    print(round(abs(exp_teor_values[i]-Wk_exp[i]), 5))"
   ]
  },
  {
   "cell_type": "markdown",
   "metadata": {},
   "source": [
    "# равномерное распределение"
   ]
  },
  {
   "cell_type": "code",
   "execution_count": 60,
   "metadata": {},
   "outputs": [],
   "source": [
    "# data_uni = stats.uniform.rvs(a_uni, b, size)\n",
    "# for i in range(size): \n",
    "#     data_uni[i] = round(data_uni[i], 5)\n",
    "# print(list(data_uni))\n",
    "\n",
    "data_uni = [0.79857, 0.63119, 1.11028, 0.49508, 0.0196, 1.21199, -0.31139, 0.91481, -0.07069, 1.11327, \n",
    " 0.1838, -0.61877, 1.45916, 1.10436, 0.79666, 0.07559, 0.04654, -0.04947, -0.60359, 1.12611,\n",
    " 1.2798, 0.17039, 1.30784, 0.908, 1.28977, -0.4696, 0.59497, -0.24997, 0.13608, -0.33474, \n",
    " 1.24208, -0.59398, 0.98557, 1.34538, 1.23372, 0.59462, -0.62703, 0.73473, -0.37247, -0.02931,\n",
    " -0.23712, -0.2123, 1.172, 1.225, -0.44118, -0.24695, 0.69363, 0.75339, -0.63587, -0.17446,\n",
    " 0.69202, -0.1849, 1.26135, -0.06643, 0.71435, 1.00262, 0.36123, -0.14304, -0.15809, 1.39059,\n",
    " 0.09395, -0.28084, -0.0854, -0.37128, 0.39609, 0.70435, 0.88573, -0.48797, 1.32619, 1.21419, \n",
    " 0.26612, 0.25236, -0.38785, 0.53978, -0.73412, 1.28364, -0.66781, 0.24795, 0.59922, 0.90932,\n",
    " 0.46501, 1.15281, -0.2764, 0.61547, 0.6933, 1.30457, -0.38725, 0.65644, 0.35483, 1.45713,\n",
    " -0.52343, -0.53374, 0.3719, 0.12529, -0.09714, 1.10538, -0.67559, 0.70414, 1.22534, -0.43454,\n",
    " -0.74165, -0.23871, -0.02724, 0.27862, -0.19515, -0.48068, -0.69666, -0.06046, 0.52197, 0.50662,\n",
    " 0.23091, 0.50584, -0.42084, 0.79946, -0.41291, -0.49299, -0.35679, 0.66341, 0.08443, 0.96233, \n",
    " 0.53517, 0.5489, 1.28762, 1.08523, -0.53732, 0.07347, -0.36627, -0.7344, 1.36368, 0.33733, \n",
    " 0.52395, 1.00616, 0.73507, 1.49856, 0.28063, -0.20898, 0.86723, 1.46942, 1.49872, 1.09281, \n",
    " 1.27516, -0.70251, 0.82517, -0.0323, 0.05043, 0.78046, 0.1158, -0.44886, 0.03757, -0.06252,\n",
    " 0.55887, 1.32544, 0.61681, 0.55473, 0.85881, -0.10453, 0.40693, 0.87916, 1.4929, 0.62742,\n",
    " 1.11576, 0.68011, 1.06215, 0.57598, -0.5352, 0.59045, 0.37905, -0.0068, 1.39286, -0.18833,\n",
    " 1.37245, 1.24663, 0.19367, 0.28096, -0.07547, 0.40281, -0.63174, -0.62599, 1.20221, 1.2418, \n",
    " 0.10156, 1.48304, 0.44274, -0.47081, 1.10085, 1.32008, 1.42725, 0.83613, 0.83002, 0.2903, \n",
    " 0.01567, 1.22303, 0.44385, 0.89418, 0.63623, 0.26202, 0.18606, 1.43744, 0.8937, -0.41607]\n"
   ]
  },
  {
   "cell_type": "code",
   "execution_count": 135,
   "metadata": {},
   "outputs": [
    {
     "name": "stdout",
     "output_type": "stream",
     "text": [
      "-0.74165 -0.7344 -0.73412 -0.70251 -0.69666 -0.67559 -0.66781 -0.63587 -0.63174 -0.62703\n",
      "-0.62599 -0.61877 -0.60359 -0.59398 -0.53732 -0.5352 -0.53374 -0.52343 -0.49299 -0.48797\n",
      "-0.48068 -0.47081 -0.4696 -0.44886 -0.44118 -0.43454 -0.42084 -0.41607 -0.41291 -0.38785\n",
      "-0.38725 -0.37247 -0.37128 -0.36627 -0.35679 -0.33474 -0.31139 -0.28084 -0.2764 -0.24997\n",
      "-0.24695 -0.23871 -0.23712 -0.2123 -0.20898 -0.19515 -0.18833 -0.1849 -0.17446 -0.15809\n",
      "-0.14304 -0.10453 -0.09714 -0.0854 -0.07547 -0.07069 -0.06643 -0.06252 -0.06046 -0.04947\n",
      "-0.0323 -0.02931 -0.02724 -0.0068 0.01567 0.0196 0.03757 0.04654 0.05043 0.07347\n",
      "0.07559 0.08443 0.09395 0.10156 0.1158 0.12529 0.13608 0.17039 0.1838 0.18606\n",
      "0.19367 0.23091 0.24795 0.25236 0.26202 0.26612 0.27862 0.28063 0.28096 0.2903\n",
      "0.33733 0.35483 0.36123 0.3719 0.37905 0.39609 0.40281 0.40693 0.44274 0.44385\n",
      "0.46501 0.49508 0.50584 0.50662 0.52197 0.52395 0.53517 0.53978 0.5489 0.55473\n",
      "0.55887 0.57598 0.59045 0.59462 0.59497 0.59922 0.61547 0.61681 0.62742 0.63119\n",
      "0.63623 0.65644 0.66341 0.68011 0.69202 0.6933 0.69363 0.70414 0.70435 0.71435\n",
      "0.73473 0.73507 0.75339 0.78046 0.79666 0.79857 0.79946 0.82517 0.83002 0.83613\n",
      "0.85881 0.86723 0.87916 0.88573 0.8937 0.89418 0.908 0.90932 0.91481 0.96233\n",
      "0.98557 1.00262 1.00616 1.06215 1.08523 1.09281 1.10085 1.10436 1.10538 1.11028\n",
      "1.11327 1.11576 1.12611 1.15281 1.172 1.20221 1.21199 1.21419 1.22303 1.225\n",
      "1.22534 1.23372 1.2418 1.24208 1.24663 1.26135 1.27516 1.2798 1.28364 1.28762\n",
      "1.28977 1.30457 1.30784 1.32008 1.32544 1.32619 1.34538 1.36368 1.37245 1.39059\n",
      "1.39286 1.42725 1.43744 1.45713 1.45916 1.46942 1.48304 1.4929 1.49856 1.49872\n"
     ]
    }
   ],
   "source": [
    "sort_data_uni = sorted(data_uni)\n",
    "for i in range(0,len(sort_data_uni),10):\n",
    "    print(sort_data_uni[i], sort_data_uni[i+1], \n",
    "          sort_data_uni[i+2], sort_data_uni[i+3], \n",
    "          sort_data_uni[i+4], sort_data_uni[i+5], \n",
    "          sort_data_uni[i+6], sort_data_uni[i+7], \n",
    "          sort_data_uni[i+8], sort_data_uni[i+9])"
   ]
  },
  {
   "cell_type": "code",
   "execution_count": 62,
   "metadata": {},
   "outputs": [
    {
     "name": "stdout",
     "output_type": "stream",
     "text": [
      "d = 0.28005\n"
     ]
    }
   ],
   "source": [
    "len_of_interval_uni = len_of_interval_i(sort_data_uni, m_Sterdjes)\n",
    "print('d =', len_of_interval_uni)"
   ]
  },
  {
   "cell_type": "code",
   "execution_count": 63,
   "metadata": {},
   "outputs": [
    {
     "name": "stdout",
     "output_type": "stream",
     "text": [
      "-0.74165 -0.4616\n",
      "-0.4616 -0.18155\n",
      "-0.18155 0.09850000000000003\n",
      "0.09850000000000003 0.37855000000000005\n",
      "0.37855000000000005 0.6586000000000002\n",
      "0.6586000000000002 0.9386500000000001\n",
      "0.9386500000000001 1.2187000000000001\n",
      "1.2187000000000001 1.4987500000000002\n",
      "[-0.74165, -0.7344, -0.73412, -0.70251, -0.69666, -0.67559, -0.66781, -0.63587, -0.63174, -0.62703, -0.62599, -0.61877, -0.60359, -0.59398, -0.53732, -0.5352, -0.53374, -0.52343, -0.49299, -0.48797, -0.48068, -0.47081, -0.4696]\n",
      "[-0.44886, -0.44118, -0.43454, -0.42084, -0.41607, -0.41291, -0.38785, -0.38725, -0.37247, -0.37128, -0.36627, -0.35679, -0.33474, -0.31139, -0.28084, -0.2764, -0.24997, -0.24695, -0.23871, -0.23712, -0.2123, -0.20898, -0.19515, -0.18833, -0.1849]\n",
      "[-0.17446, -0.15809, -0.14304, -0.10453, -0.09714, -0.0854, -0.07547, -0.07069, -0.06643, -0.06252, -0.06046, -0.04947, -0.0323, -0.02931, -0.02724, -0.0068, 0.01567, 0.0196, 0.03757, 0.04654, 0.05043, 0.07347, 0.07559, 0.08443, 0.09395]\n",
      "[0.10156, 0.1158, 0.12529, 0.13608, 0.17039, 0.1838, 0.18606, 0.19367, 0.23091, 0.24795, 0.25236, 0.26202, 0.26612, 0.27862, 0.28063, 0.28096, 0.2903, 0.33733, 0.35483, 0.36123, 0.3719]\n",
      "[0.37905, 0.39609, 0.40281, 0.40693, 0.44274, 0.44385, 0.46501, 0.49508, 0.50584, 0.50662, 0.52197, 0.52395, 0.53517, 0.53978, 0.5489, 0.55473, 0.55887, 0.57598, 0.59045, 0.59462, 0.59497, 0.59922, 0.61547, 0.61681, 0.62742, 0.63119, 0.63623, 0.65644]\n",
      "[0.66341, 0.68011, 0.69202, 0.6933, 0.69363, 0.70414, 0.70435, 0.71435, 0.73473, 0.73507, 0.75339, 0.78046, 0.79666, 0.79857, 0.79946, 0.82517, 0.83002, 0.83613, 0.85881, 0.86723, 0.87916, 0.88573, 0.8937, 0.89418, 0.908, 0.90932, 0.91481]\n",
      "[0.96233, 0.98557, 1.00262, 1.00616, 1.06215, 1.08523, 1.09281, 1.10085, 1.10436, 1.10538, 1.11028, 1.11327, 1.11576, 1.12611, 1.15281, 1.172, 1.20221, 1.21199, 1.21419]\n",
      "[1.22303, 1.225, 1.22534, 1.23372, 1.2418, 1.24208, 1.24663, 1.26135, 1.27516, 1.2798, 1.28364, 1.28762, 1.28977, 1.30457, 1.30784, 1.32008, 1.32544, 1.32619, 1.34538, 1.36368, 1.37245, 1.39059, 1.39286, 1.42725, 1.43744, 1.45713, 1.45916, 1.46942, 1.48304, 1.4929, 1.49856, 1.49872]\n"
     ]
    }
   ],
   "source": [
    "elems_uni = make_elems_in_intervals(sort_data_uni, len_of_interval_uni)\n",
    "for i in range(len(elems_uni)):\n",
    "    print(elems_uni[i])"
   ]
  },
  {
   "cell_type": "code",
   "execution_count": 64,
   "metadata": {},
   "outputs": [
    {
     "data": {
      "text/plain": [
       "[23, 25, 25, 21, 28, 27, 19, 32]"
      ]
     },
     "execution_count": 64,
     "metadata": {},
     "output_type": "execute_result"
    }
   ],
   "source": [
    "Nk_uni = count_elems(elems_uni)\n",
    "Nk_uni"
   ]
  },
  {
   "cell_type": "code",
   "execution_count": 65,
   "metadata": {},
   "outputs": [
    {
     "data": {
      "text/plain": [
       "[0.115, 0.125, 0.125, 0.105, 0.14, 0.135, 0.095, 0.16]"
      ]
     },
     "execution_count": 65,
     "metadata": {},
     "output_type": "execute_result"
    }
   ],
   "source": [
    "Wk_uni = relative_frequency(Nk_uni, size)\n",
    "Wk_uni"
   ]
  },
  {
   "cell_type": "code",
   "execution_count": 66,
   "metadata": {},
   "outputs": [
    {
     "data": {
      "text/plain": [
       "[-0.6016250000000001,\n",
       " -0.321575,\n",
       " -0.04152499999999998,\n",
       " 0.23852500000000004,\n",
       " 0.5185750000000001,\n",
       " 0.7986250000000001,\n",
       " 1.078675,\n",
       " 1.3587250000000002]"
      ]
     },
     "execution_count": 66,
     "metadata": {},
     "output_type": "execute_result"
    }
   ],
   "source": [
    "Xk_uni = intervals_mid(sort_data_uni, len_of_interval_uni)\n",
    "Xk_uni"
   ]
  },
  {
   "cell_type": "code",
   "execution_count": 67,
   "metadata": {},
   "outputs": [
    {
     "data": {
      "text/html": [
       "<div>\n",
       "<style scoped>\n",
       "    .dataframe tbody tr th:only-of-type {\n",
       "        vertical-align: middle;\n",
       "    }\n",
       "\n",
       "    .dataframe tbody tr th {\n",
       "        vertical-align: top;\n",
       "    }\n",
       "\n",
       "    .dataframe thead th {\n",
       "        text-align: right;\n",
       "    }\n",
       "</style>\n",
       "<table border=\"1\" class=\"dataframe\">\n",
       "  <thead>\n",
       "    <tr style=\"text-align: right;\">\n",
       "      <th></th>\n",
       "      <th>Xk</th>\n",
       "      <th>Nk</th>\n",
       "      <th>Wk</th>\n",
       "    </tr>\n",
       "  </thead>\n",
       "  <tbody>\n",
       "    <tr>\n",
       "      <th>0</th>\n",
       "      <td>-0.601625</td>\n",
       "      <td>23</td>\n",
       "      <td>0.115</td>\n",
       "    </tr>\n",
       "    <tr>\n",
       "      <th>1</th>\n",
       "      <td>-0.321575</td>\n",
       "      <td>25</td>\n",
       "      <td>0.125</td>\n",
       "    </tr>\n",
       "    <tr>\n",
       "      <th>2</th>\n",
       "      <td>-0.041525</td>\n",
       "      <td>25</td>\n",
       "      <td>0.125</td>\n",
       "    </tr>\n",
       "    <tr>\n",
       "      <th>3</th>\n",
       "      <td>0.238525</td>\n",
       "      <td>21</td>\n",
       "      <td>0.105</td>\n",
       "    </tr>\n",
       "    <tr>\n",
       "      <th>4</th>\n",
       "      <td>0.518575</td>\n",
       "      <td>28</td>\n",
       "      <td>0.140</td>\n",
       "    </tr>\n",
       "    <tr>\n",
       "      <th>5</th>\n",
       "      <td>0.798625</td>\n",
       "      <td>27</td>\n",
       "      <td>0.135</td>\n",
       "    </tr>\n",
       "    <tr>\n",
       "      <th>6</th>\n",
       "      <td>1.078675</td>\n",
       "      <td>19</td>\n",
       "      <td>0.095</td>\n",
       "    </tr>\n",
       "    <tr>\n",
       "      <th>7</th>\n",
       "      <td>1.358725</td>\n",
       "      <td>32</td>\n",
       "      <td>0.160</td>\n",
       "    </tr>\n",
       "  </tbody>\n",
       "</table>\n",
       "</div>"
      ],
      "text/plain": [
       "         Xk  Nk     Wk\n",
       "0 -0.601625  23  0.115\n",
       "1 -0.321575  25  0.125\n",
       "2 -0.041525  25  0.125\n",
       "3  0.238525  21  0.105\n",
       "4  0.518575  28  0.140\n",
       "5  0.798625  27  0.135\n",
       "6  1.078675  19  0.095\n",
       "7  1.358725  32  0.160"
      ]
     },
     "execution_count": 67,
     "metadata": {},
     "output_type": "execute_result"
    }
   ],
   "source": [
    "df_uni = df_create(Xk_uni, Nk_uni, Wk_uni)\n",
    "df_uni"
   ]
  },
  {
   "cell_type": "code",
   "execution_count": 68,
   "metadata": {},
   "outputs": [
    {
     "data": {
      "text/plain": [
       "1.0"
      ]
     },
     "execution_count": 68,
     "metadata": {},
     "output_type": "execute_result"
    }
   ],
   "source": [
    "summ = 0\n",
    "for i in range(len(df_uni)):\n",
    "    summ = summ + df_uni['Wk'][i]\n",
    "summ"
   ]
  },
  {
   "cell_type": "code",
   "execution_count": 69,
   "metadata": {},
   "outputs": [
    {
     "data": {
      "image/png": "[encoded data removed]",
      "text/plain": [
       "<Figure size 2000x1600 with 1 Axes>"
      ]
     },
     "metadata": {},
     "output_type": "display_data"
    }
   ],
   "source": [
    "plot_emperic(sort_data_uni, size)"
   ]
  },
  {
   "cell_type": "code",
   "execution_count": 70,
   "metadata": {},
   "outputs": [
    {
     "data": {
      "image/png": "[encoded data removed]",
      "text/plain": [
       "<Figure size 2000x1600 with 1 Axes>"
      ]
     },
     "metadata": {},
     "output_type": "display_data"
    }
   ],
   "source": [
    "plot_hist(df_uni, len_of_interval_uni)"
   ]
  },
  {
   "cell_type": "code",
   "execution_count": 158,
   "metadata": {},
   "outputs": [
    {
     "name": "stdout",
     "output_type": "stream",
     "text": [
      "выборочное среднее = 0.41076\n",
      "выборочная дисперсия = 0.3694\n",
      "выборочное среднее квадратическое отклонение = 0.60779\n",
      "выборочная мода = 1.2996\n",
      "выборочная медиана = 0.90364\n",
      "выборочниый момент 2-го порядка = 0.59041\n",
      "выборочный центральный момент 2-ого порядка = 0.42169\n",
      "выборочный коэффициент асимметрии = -0.15588\n",
      "выборочный коэффициент эксцесса = 13.82325\n",
      "\n",
      "UNIFORM teoreric\n",
      "expected value = 0.75\n",
      "dispersion = 0.75\n",
      "quadratic deviation = 2.598076211353316\n",
      "fashion = 0.75\n",
      "median = 0.75\n",
      "asymmetry = 0\n",
      "kurtosis = -1.2\n"
     ]
    }
   ],
   "source": [
    "print_all(df_uni, sort_data_uni[0], len_of_interval_uni)\n",
    "print()\n",
    "print_uni_teor()"
   ]
  },
  {
   "cell_type": "code",
   "execution_count": 160,
   "metadata": {},
   "outputs": [
    {
     "name": "stdout",
     "output_type": "stream",
     "text": [
      "\n",
      "1 0.12447\n",
      "2 0.12447\n",
      "3 0.12447\n",
      "4 0.12447\n",
      "5 0.12447\n",
      "6 0.12447\n",
      "7 0.12447\n",
      "8 0.12447\n",
      "sum = 0.9957599999999999\n",
      "\n",
      "0.00947\n",
      "0.00053\n",
      "0.00053\n",
      "0.01947\n",
      "0.01553\n",
      "0.01053\n",
      "0.02947\n",
      "0.03553\n"
     ]
    }
   ],
   "source": [
    "uni_teor_values = uni_teor_probability(sort_data_uni, a_uni, b, m_Sterdjes, len_of_interval_uni)\n",
    "print()\n",
    "for i in range(len(uni_teor_values)):\n",
    "    print(round(abs(uni_teor_values[i]-Wk_uni[i]), 5))"
   ]
  },
  {
   "cell_type": "code",
   "execution_count": null,
   "metadata": {},
   "outputs": [],
   "source": []
  },
  {
   "cell_type": "code",
   "execution_count": null,
   "metadata": {},
   "outputs": [],
   "source": []
  },
  {
   "cell_type": "code",
   "execution_count": null,
   "metadata": {},
   "outputs": [],
   "source": []
  }
 ],
 "metadata": {
  "kernelspec": {
   "display_name": "Python 3",
   "language": "python",
   "name": "python3"
  },
  "language_info": {
   "codemirror_mode": {
    "name": "ipython",
    "version": 3
   },
   "file_extension": ".py",
   "mimetype": "text/x-python",
   "name": "python",
   "nbconvert_exporter": "python",
   "pygments_lexer": "ipython3",
   "version": "3.6.8"
  }
 },
 "nbformat": 4,
 "nbformat_minor": 2
}
